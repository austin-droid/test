{
 "nbformat": 4,
 "nbformat_minor": 0,
 "metadata": {
  "kernelspec": {
   "name": "pycharm-5633d85d",
   "language": "python",
   "display_name": "PyCharm (ml-stuff-2)"
  },
  "colab": {
   "name": "mab_bernoulli.ipynb",
   "provenance": []
  },
  "language_info": {
   "name": "python"
  }
 },
 "cells": [
  {
   "cell_type": "code",
   "metadata": {
    "collapsed": true,
    "id": "uq4M6yTZN_uz"
   },
   "source": [
    "#\n",
    "# test between CoLab and PyCharm\n",
    "#\n",
    "\n",
    "import numpy as np\n",
    "\n",
    "class BernoulliBandit(object):\n",
    "    def __init__(self, p):\n",
    "            self.p = p\n",
    "\n",
    "    def display_ad(self):\n",
    "            reward = np.random.binomial(n=1, p=self.p)\n",
    "            return reward\n",
    "\n",
    "\n",
    "adA = BernoulliBandit(0.004)\n",
    "adB = BernoulliBandit(0.016)\n",
    "adC = BernoulliBandit(0.02)\n",
    "adD = BernoulliBandit(0.028)\n",
    "adE = BernoulliBandit(0.031)"
   ],
   "execution_count": 6,
   "outputs": []
  },
  {
   "cell_type": "code",
   "metadata": {
    "pycharm": {
     "name": "#%%\n"
    },
    "id": "-Q-G2E00N_u3",
    "outputId": "3ea5d675-67d3-4752-bd7e-b8d2c9932926",
    "colab": {
     "base_uri": "https://localhost:8080/"
    }
   },
   "source": [
    "ads = [adA, adB, adC, adD, adE]\n",
    "\n",
    "# quick test\n",
    "b1=0\n",
    "b2=0\n",
    "b3=0\n",
    "b4=0\n",
    "b5=0\n",
    "\n",
    "# accumulate rewards from distributions\n",
    "for i in range(0,10000):\n",
    "    b1 = b1+adA.display_ad()\n",
    "    b2 = b2+adB.display_ad()\n",
    "    b3 = b3+adC.display_ad()\n",
    "    b4 = b4+adD.display_ad()\n",
    "    b5 = b5+adE.display_ad()\n",
    "\n",
    "# index of best\n",
    "r_index = np.argmax([b1,b2,b3,b4,b5])\n",
    "print(r_index+1)\n",
    "print(\"The best performing ad is {}\".format(chr(ord('A')+ r_index)))"
   ],
   "execution_count": 7,
   "outputs": [
    {
     "name": "stdout",
     "output_type": "stream",
     "text": [
      "5\n",
      "The best performing ad is E\n"
     ]
    }
   ]
  },
  {
   "cell_type": "code",
   "metadata": {
    "pycharm": {
     "name": "#%%\n"
    },
    "id": "Rx1pBa2IN_u5"
   },
   "source": [
    "n_test = 10000\n",
    "n_prod = 90000\n",
    "n_ads = len(ads)\n",
    "Q = np.zeros(n_ads)  # Q, action values\n",
    "N = np.zeros(n_ads)  # N, total impressions\n",
    "total_reward = 0\n",
    "avg_rewards = []  # Save average rewards over time"
   ],
   "execution_count": 8,
   "outputs": []
  },
  {
   "cell_type": "code",
   "metadata": {
    "pycharm": {
     "name": "#%%\n"
    },
    "id": "yvC4B3B6N_u5"
   },
   "source": [
    "# A/B/n test\n",
    "for i in range(n_test):\n",
    "    ad_chosen = np.random.randint(n_ads)\n",
    "    R = ads[ad_chosen].display_ad()  # Observe reward\n",
    "    N[ad_chosen] += 1\n",
    "\n",
    "    Q[ad_chosen] += (1 / N[ad_chosen]) * (R - Q[ad_chosen])\n",
    "\n",
    "    total_reward += R\n",
    "    avg_reward_so_far = total_reward / (i + 1)\n",
    "    avg_rewards.append(avg_reward_so_far)"
   ],
   "execution_count": 9,
   "outputs": []
  },
  {
   "cell_type": "code",
   "metadata": {
    "pycharm": {
     "name": "#%%\n"
    },
    "id": "ilclgVlRN_u6",
    "outputId": "b3a736ac-fc45-41f8-9545-2902110a8b59",
    "colab": {
     "base_uri": "https://localhost:8080/"
    }
   },
   "source": [
    "best_ad_index = np.argmax(Q)  # Find the best action\n",
    "print(\"The best performing ad/arm is {}\".format(chr(ord('A') + best_ad_index)))"
   ],
   "execution_count": 10,
   "outputs": [
    {
     "name": "stdout",
     "output_type": "stream",
     "text": [
      "The best performing ad/arm is E\n"
     ]
    }
   ]
  }
 ]
}